{
 "cells": [
  {
   "cell_type": "code",
   "execution_count": 4,
   "id": "4df3b93f",
   "metadata": {},
   "outputs": [
    {
     "name": "stdout",
     "output_type": "stream",
     "text": [
      "Requirement already satisfied: tabpy in c:\\users\\brett tully\\anaconda3\\lib\\site-packages (2.6.0)\n",
      "Requirement already satisfied: tornado in c:\\users\\brett tully\\anaconda3\\lib\\site-packages (from tabpy) (6.1)\n",
      "Requirement already satisfied: twisted in c:\\users\\brett tully\\anaconda3\\lib\\site-packages (from tabpy) (22.2.0)\n",
      "Requirement already satisfied: configparser in c:\\users\\brett tully\\anaconda3\\lib\\site-packages (from tabpy) (5.3.0)\n",
      "Requirement already satisfied: cloudpickle in c:\\users\\brett tully\\anaconda3\\lib\\site-packages (from tabpy) (2.0.0)\n",
      "Requirement already satisfied: coverage in c:\\users\\brett tully\\anaconda3\\lib\\site-packages (from tabpy) (6.5.0)\n",
      "Requirement already satisfied: nltk in c:\\users\\brett tully\\anaconda3\\lib\\site-packages (from tabpy) (3.7)\n",
      "Requirement already satisfied: pyopenssl in c:\\users\\brett tully\\anaconda3\\lib\\site-packages (from tabpy) (22.0.0)\n",
      "Requirement already satisfied: hypothesis in c:\\users\\brett tully\\anaconda3\\lib\\site-packages (from tabpy) (6.70.0)\n",
      "Requirement already satisfied: scipy in c:\\users\\brett tully\\anaconda3\\lib\\site-packages (from tabpy) (1.9.1)\n",
      "Requirement already satisfied: scikit-learn in c:\\users\\brett tully\\anaconda3\\lib\\site-packages (from tabpy) (1.0.2)\n",
      "Requirement already satisfied: simplejson in c:\\users\\brett tully\\anaconda3\\lib\\site-packages (from tabpy) (3.18.4)\n",
      "Requirement already satisfied: future in c:\\users\\brett tully\\anaconda3\\lib\\site-packages (from tabpy) (0.18.2)\n",
      "Requirement already satisfied: numpy in c:\\users\\brett tully\\anaconda3\\lib\\site-packages (from tabpy) (1.21.5)\n",
      "Requirement already satisfied: pytest in c:\\users\\brett tully\\anaconda3\\lib\\site-packages (from tabpy) (7.1.2)\n",
      "Requirement already satisfied: pytest-cov in c:\\users\\brett tully\\anaconda3\\lib\\site-packages (from tabpy) (4.0.0)\n",
      "Requirement already satisfied: coveralls in c:\\users\\brett tully\\anaconda3\\lib\\site-packages (from tabpy) (3.3.1)\n",
      "Requirement already satisfied: textblob in c:\\users\\brett tully\\anaconda3\\lib\\site-packages (from tabpy) (0.17.1)\n",
      "Requirement already satisfied: pandas in c:\\users\\brett tully\\anaconda3\\lib\\site-packages (from tabpy) (1.4.4)\n",
      "Requirement already satisfied: urllib3 in c:\\users\\brett tully\\anaconda3\\lib\\site-packages (from tabpy) (1.26.11)\n",
      "Requirement already satisfied: mock in c:\\users\\brett tully\\anaconda3\\lib\\site-packages (from tabpy) (4.0.3)\n",
      "Requirement already satisfied: genson in c:\\users\\brett tully\\anaconda3\\lib\\site-packages (from tabpy) (1.2.2)\n",
      "Requirement already satisfied: requests in c:\\users\\brett tully\\anaconda3\\lib\\site-packages (from tabpy) (2.28.1)\n",
      "Requirement already satisfied: docopt in c:\\users\\brett tully\\anaconda3\\lib\\site-packages (from tabpy) (0.6.2)\n",
      "Requirement already satisfied: jsonschema in c:\\users\\brett tully\\anaconda3\\lib\\site-packages (from tabpy) (4.16.0)\n",
      "Requirement already satisfied: charset-normalizer<3,>=2 in c:\\users\\brett tully\\anaconda3\\lib\\site-packages (from requests->tabpy) (2.0.4)\n",
      "Requirement already satisfied: idna<4,>=2.5 in c:\\users\\brett tully\\anaconda3\\lib\\site-packages (from requests->tabpy) (3.3)\n",
      "Requirement already satisfied: certifi>=2017.4.17 in c:\\users\\brett tully\\anaconda3\\lib\\site-packages (from requests->tabpy) (2022.9.14)\n",
      "Requirement already satisfied: exceptiongroup>=1.0.0 in c:\\users\\brett tully\\anaconda3\\lib\\site-packages (from hypothesis->tabpy) (1.1.1)\n",
      "Requirement already satisfied: sortedcontainers<3.0.0,>=2.1.0 in c:\\users\\brett tully\\anaconda3\\lib\\site-packages (from hypothesis->tabpy) (2.4.0)\n",
      "Requirement already satisfied: attrs>=19.2.0 in c:\\users\\brett tully\\anaconda3\\lib\\site-packages (from hypothesis->tabpy) (21.4.0)\n",
      "Requirement already satisfied: pyrsistent!=0.17.0,!=0.17.1,!=0.17.2,>=0.14.0 in c:\\users\\brett tully\\anaconda3\\lib\\site-packages (from jsonschema->tabpy) (0.18.0)\n",
      "Requirement already satisfied: joblib in c:\\users\\brett tully\\anaconda3\\lib\\site-packages (from nltk->tabpy) (1.1.0)\n",
      "Requirement already satisfied: regex>=2021.8.3 in c:\\users\\brett tully\\anaconda3\\lib\\site-packages (from nltk->tabpy) (2022.7.9)\n",
      "Requirement already satisfied: click in c:\\users\\brett tully\\anaconda3\\lib\\site-packages (from nltk->tabpy) (8.0.4)\n",
      "Requirement already satisfied: tqdm in c:\\users\\brett tully\\anaconda3\\lib\\site-packages (from nltk->tabpy) (4.64.1)\n",
      "Requirement already satisfied: pytz>=2020.1 in c:\\users\\brett tully\\anaconda3\\lib\\site-packages (from pandas->tabpy) (2022.1)\n",
      "Requirement already satisfied: python-dateutil>=2.8.1 in c:\\users\\brett tully\\anaconda3\\lib\\site-packages (from pandas->tabpy) (2.8.2)\n",
      "Requirement already satisfied: cryptography>=35.0 in c:\\users\\brett tully\\anaconda3\\lib\\site-packages (from pyopenssl->tabpy) (37.0.1)\n",
      "Requirement already satisfied: iniconfig in c:\\users\\brett tully\\anaconda3\\lib\\site-packages (from pytest->tabpy) (1.1.1)\n",
      "Requirement already satisfied: packaging in c:\\users\\brett tully\\anaconda3\\lib\\site-packages (from pytest->tabpy) (21.3)\n",
      "Requirement already satisfied: pluggy<2.0,>=0.12 in c:\\users\\brett tully\\anaconda3\\lib\\site-packages (from pytest->tabpy) (1.0.0)\n",
      "Requirement already satisfied: py>=1.8.2 in c:\\users\\brett tully\\anaconda3\\lib\\site-packages (from pytest->tabpy) (1.11.0)\n",
      "Requirement already satisfied: tomli>=1.0.0 in c:\\users\\brett tully\\anaconda3\\lib\\site-packages (from pytest->tabpy) (2.0.1)\n",
      "Requirement already satisfied: atomicwrites>=1.0 in c:\\users\\brett tully\\anaconda3\\lib\\site-packages (from pytest->tabpy) (1.4.0)\n",
      "Requirement already satisfied: colorama in c:\\users\\brett tully\\anaconda3\\lib\\site-packages (from pytest->tabpy) (0.4.5)\n",
      "Requirement already satisfied: threadpoolctl>=2.0.0 in c:\\users\\brett tully\\anaconda3\\lib\\site-packages (from scikit-learn->tabpy) (2.2.0)\n",
      "Requirement already satisfied: zope.interface>=4.4.2 in c:\\users\\brett tully\\anaconda3\\lib\\site-packages (from twisted->tabpy) (5.4.0)\n",
      "Requirement already satisfied: twisted-iocpsupport<2,>=1.0.2 in c:\\users\\brett tully\\anaconda3\\lib\\site-packages (from twisted->tabpy) (1.0.2)\n",
      "Requirement already satisfied: hyperlink>=17.1.1 in c:\\users\\brett tully\\anaconda3\\lib\\site-packages (from twisted->tabpy) (21.0.0)\n",
      "Requirement already satisfied: Automat>=0.8.0 in c:\\users\\brett tully\\anaconda3\\lib\\site-packages (from twisted->tabpy) (20.2.0)\n",
      "Requirement already satisfied: constantly>=15.1 in c:\\users\\brett tully\\anaconda3\\lib\\site-packages (from twisted->tabpy) (15.1.0)\n",
      "Requirement already satisfied: incremental>=21.3.0 in c:\\users\\brett tully\\anaconda3\\lib\\site-packages (from twisted->tabpy) (21.3.0)\n",
      "Requirement already satisfied: typing-extensions>=3.6.5 in c:\\users\\brett tully\\anaconda3\\lib\\site-packages (from twisted->tabpy) (4.3.0)\n",
      "Requirement already satisfied: six in c:\\users\\brett tully\\anaconda3\\lib\\site-packages (from Automat>=0.8.0->twisted->tabpy) (1.16.0)\n",
      "Requirement already satisfied: cffi>=1.12 in c:\\users\\brett tully\\anaconda3\\lib\\site-packages (from cryptography>=35.0->pyopenssl->tabpy) (1.15.1)\n",
      "Requirement already satisfied: setuptools in c:\\users\\brett tully\\anaconda3\\lib\\site-packages (from zope.interface>=4.4.2->twisted->tabpy) (63.4.1)\n",
      "Requirement already satisfied: pyparsing!=3.0.5,>=2.0.2 in c:\\users\\brett tully\\anaconda3\\lib\\site-packages (from packaging->pytest->tabpy) (3.0.9)\n",
      "Requirement already satisfied: pycparser in c:\\users\\brett tully\\anaconda3\\lib\\site-packages (from cffi>=1.12->cryptography>=35.0->pyopenssl->tabpy) (2.21)\n",
      "Requirement already satisfied: tabpy_client in c:\\users\\brett tully\\anaconda3\\lib\\site-packages (0.2)\n",
      "Requirement already satisfied: requests in c:\\users\\brett tully\\anaconda3\\lib\\site-packages (from tabpy_client) (2.28.1)\n",
      "Requirement already satisfied: cloudpickle in c:\\users\\brett tully\\anaconda3\\lib\\site-packages (from tabpy_client) (2.0.0)\n",
      "Requirement already satisfied: jsonschema in c:\\users\\brett tully\\anaconda3\\lib\\site-packages (from tabpy_client) (4.16.0)\n",
      "Requirement already satisfied: decorator in c:\\users\\brett tully\\anaconda3\\lib\\site-packages (from tabpy_client) (5.1.1)\n",
      "Requirement already satisfied: genson in c:\\users\\brett tully\\anaconda3\\lib\\site-packages (from tabpy_client) (1.2.2)\n",
      "Requirement already satisfied: python-dateutil in c:\\users\\brett tully\\anaconda3\\lib\\site-packages (from tabpy_client) (2.8.2)\n",
      "Requirement already satisfied: attrs>=17.4.0 in c:\\users\\brett tully\\anaconda3\\lib\\site-packages (from jsonschema->tabpy_client) (21.4.0)\n",
      "Requirement already satisfied: pyrsistent!=0.17.0,!=0.17.1,!=0.17.2,>=0.14.0 in c:\\users\\brett tully\\anaconda3\\lib\\site-packages (from jsonschema->tabpy_client) (0.18.0)\n",
      "Requirement already satisfied: six>=1.5 in c:\\users\\brett tully\\anaconda3\\lib\\site-packages (from python-dateutil->tabpy_client) (1.16.0)\n",
      "Requirement already satisfied: charset-normalizer<3,>=2 in c:\\users\\brett tully\\anaconda3\\lib\\site-packages (from requests->tabpy_client) (2.0.4)\n",
      "Requirement already satisfied: idna<4,>=2.5 in c:\\users\\brett tully\\anaconda3\\lib\\site-packages (from requests->tabpy_client) (3.3)\n",
      "Requirement already satisfied: certifi>=2017.4.17 in c:\\users\\brett tully\\anaconda3\\lib\\site-packages (from requests->tabpy_client) (2022.9.14)\n",
      "Requirement already satisfied: urllib3<1.27,>=1.21.1 in c:\\users\\brett tully\\anaconda3\\lib\\site-packages (from requests->tabpy_client) (1.26.11)\n"
     ]
    }
   ],
   "source": [
    "!pip3 install tabpy\n",
    "!pip3 install tabpy_client"
   ]
  },
  {
   "cell_type": "code",
   "execution_count": 3,
   "id": "572741ee",
   "metadata": {},
   "outputs": [
    {
     "name": "stdout",
     "output_type": "stream",
     "text": [
      "Collecting tabpy_client\n",
      "  Downloading tabpy_client-0.2-py3-none-any.whl (16 kB)\n",
      "Requirement already satisfied: python-dateutil in c:\\users\\brett tully\\anaconda3\\lib\\site-packages (from tabpy_client) (2.8.2)\n",
      "Requirement already satisfied: cloudpickle in c:\\users\\brett tully\\anaconda3\\lib\\site-packages (from tabpy_client) (2.0.0)\n",
      "Requirement already satisfied: genson in c:\\users\\brett tully\\anaconda3\\lib\\site-packages (from tabpy_client) (1.2.2)\n",
      "Requirement already satisfied: jsonschema in c:\\users\\brett tully\\anaconda3\\lib\\site-packages (from tabpy_client) (4.16.0)\n",
      "Requirement already satisfied: requests in c:\\users\\brett tully\\anaconda3\\lib\\site-packages (from tabpy_client) (2.28.1)\n",
      "Requirement already satisfied: decorator in c:\\users\\brett tully\\anaconda3\\lib\\site-packages (from tabpy_client) (5.1.1)\n",
      "Requirement already satisfied: attrs>=17.4.0 in c:\\users\\brett tully\\anaconda3\\lib\\site-packages (from jsonschema->tabpy_client) (21.4.0)\n",
      "Requirement already satisfied: pyrsistent!=0.17.0,!=0.17.1,!=0.17.2,>=0.14.0 in c:\\users\\brett tully\\anaconda3\\lib\\site-packages (from jsonschema->tabpy_client) (0.18.0)\n",
      "Requirement already satisfied: six>=1.5 in c:\\users\\brett tully\\anaconda3\\lib\\site-packages (from python-dateutil->tabpy_client) (1.16.0)\n",
      "Requirement already satisfied: certifi>=2017.4.17 in c:\\users\\brett tully\\anaconda3\\lib\\site-packages (from requests->tabpy_client) (2022.9.14)\n",
      "Requirement already satisfied: charset-normalizer<3,>=2 in c:\\users\\brett tully\\anaconda3\\lib\\site-packages (from requests->tabpy_client) (2.0.4)\n",
      "Requirement already satisfied: urllib3<1.27,>=1.21.1 in c:\\users\\brett tully\\anaconda3\\lib\\site-packages (from requests->tabpy_client) (1.26.11)\n",
      "Requirement already satisfied: idna<4,>=2.5 in c:\\users\\brett tully\\anaconda3\\lib\\site-packages (from requests->tabpy_client) (3.3)\n",
      "Installing collected packages: tabpy_client\n",
      "Successfully installed tabpy_client-0.2\n"
     ]
    }
   ],
   "source": [
    "!pip3 install tabpy_client"
   ]
  },
  {
   "cell_type": "code",
   "execution_count": 5,
   "id": "049ee929",
   "metadata": {},
   "outputs": [
    {
     "ename": "NameError",
     "evalue": "name 'python' is not defined",
     "output_type": "error",
     "traceback": [
      "\u001b[1;31m---------------------------------------------------------------------------\u001b[0m",
      "\u001b[1;31mNameError\u001b[0m                                 Traceback (most recent call last)",
      "\u001b[1;32m~\\AppData\\Local\\Temp\\ipykernel_26304\\388333897.py\u001b[0m in \u001b[0;36m<module>\u001b[1;34m\u001b[0m\n\u001b[1;32m----> 1\u001b[1;33m \u001b[0mpython\u001b[0m\u001b[1;33m\u001b[0m\u001b[1;33m\u001b[0m\u001b[0m\n\u001b[0m",
      "\u001b[1;31mNameError\u001b[0m: name 'python' is not defined"
     ]
    }
   ],
   "source": []
  },
  {
   "cell_type": "code",
   "execution_count": null,
   "id": "f292d6b8",
   "metadata": {},
   "outputs": [],
   "source": []
  }
 ],
 "metadata": {
  "kernelspec": {
   "display_name": "Python 3 (ipykernel)",
   "language": "python",
   "name": "python3"
  },
  "language_info": {
   "codemirror_mode": {
    "name": "ipython",
    "version": 3
   },
   "file_extension": ".py",
   "mimetype": "text/x-python",
   "name": "python",
   "nbconvert_exporter": "python",
   "pygments_lexer": "ipython3",
   "version": "3.9.13"
  }
 },
 "nbformat": 4,
 "nbformat_minor": 5
}
