{
 "cells": [
  {
   "cell_type": "code",
   "execution_count": 3,
   "id": "0c2fcdf9",
   "metadata": {},
   "outputs": [],
   "source": [
    "import pandas as pd"
   ]
  },
  {
   "cell_type": "code",
   "execution_count": null,
   "id": "9ef9ae82",
   "metadata": {},
   "outputs": [],
   "source": []
  },
  {
   "cell_type": "code",
   "execution_count": 5,
   "id": "3f019f79",
   "metadata": {},
   "outputs": [
    {
     "ename": "UnboundLocalError",
     "evalue": "local variable 'cursor' referenced before assignment",
     "output_type": "error",
     "traceback": [
      "\u001b[0;31m---------------------------------------------------------------------------\u001b[0m",
      "\u001b[0;31mNameError\u001b[0m                                 Traceback (most recent call last)",
      "Input \u001b[0;32mIn [5]\u001b[0m, in \u001b[0;36mquery_with_fetchone\u001b[0;34m()\u001b[0m\n\u001b[1;32m      6\u001b[0m \u001b[38;5;28;01mtry\u001b[39;00m:\n\u001b[0;32m----> 7\u001b[0m     connection \u001b[38;5;241m=\u001b[39m \u001b[43mmysql\u001b[49m\u001b[38;5;241m.\u001b[39mconnector\u001b[38;5;241m.\u001b[39mconnect(user\u001b[38;5;241m=\u001b[39m\u001b[38;5;124m'\u001b[39m\u001b[38;5;124mbrett\u001b[39m\u001b[38;5;124m'\u001b[39m, \n\u001b[1;32m      8\u001b[0m                                          password\u001b[38;5;241m=\u001b[39m\u001b[38;5;124m'\u001b[39m\u001b[38;5;124mBrettTully#2023\u001b[39m\u001b[38;5;124m'\u001b[39m,\n\u001b[1;32m      9\u001b[0m                                          host\u001b[38;5;241m=\u001b[39m\u001b[38;5;124m'\u001b[39m\u001b[38;5;124mr2klabs.com\u001b[39m\u001b[38;5;124m'\u001b[39m,\n\u001b[1;32m     10\u001b[0m                                          database\u001b[38;5;241m=\u001b[39m\u001b[38;5;124m'\u001b[39m\u001b[38;5;124msensor\u001b[39m\u001b[38;5;124m'\u001b[39m)\n\u001b[1;32m     11\u001b[0m     cursor \u001b[38;5;241m=\u001b[39m connection\u001b[38;5;241m.\u001b[39mcursor()\n",
      "\u001b[0;31mNameError\u001b[0m: name 'mysql' is not defined",
      "\nDuring handling of the above exception, another exception occurred:\n",
      "\u001b[0;31mUnboundLocalError\u001b[0m                         Traceback (most recent call last)",
      "Input \u001b[0;32mIn [5]\u001b[0m, in \u001b[0;36m<cell line: 31>\u001b[0;34m()\u001b[0m\n\u001b[1;32m     28\u001b[0m         cursor\u001b[38;5;241m.\u001b[39mclose()\n\u001b[1;32m     29\u001b[0m         connection\u001b[38;5;241m.\u001b[39mclose()\n\u001b[0;32m---> 31\u001b[0m \u001b[43mquery_with_fetchone\u001b[49m\u001b[43m(\u001b[49m\u001b[43m)\u001b[49m\n\u001b[1;32m     32\u001b[0m df\n",
      "Input \u001b[0;32mIn [5]\u001b[0m, in \u001b[0;36mquery_with_fetchone\u001b[0;34m()\u001b[0m\n\u001b[1;32m     25\u001b[0m     \u001b[38;5;28mprint\u001b[39m(e)\n\u001b[1;32m     27\u001b[0m \u001b[38;5;28;01mfinally\u001b[39;00m:\n\u001b[0;32m---> 28\u001b[0m     \u001b[43mcursor\u001b[49m\u001b[38;5;241m.\u001b[39mclose()\n\u001b[1;32m     29\u001b[0m     connection\u001b[38;5;241m.\u001b[39mclose()\n",
      "\u001b[0;31mUnboundLocalError\u001b[0m: local variable 'cursor' referenced before assignment"
     ]
    }
   ],
   "source": [
    "from mysql.connector import MySQLConnection, Error\n",
    "import pandas as pd\n",
    "\n",
    "df = pd.DataFrame()\n",
    "def query_with_fetchone():\n",
    "    try:\n",
    "        connection = mysql.connector.connect(user='brett', \n",
    "                                             password='BrettTully#2023',\n",
    "                                             host='r2klabs.com',\n",
    "                                             database='sensor')\n",
    "        cursor = connection.cursor()\n",
    "        cursor.execute(\"SELECT * FROM rpisense order by sensor_date DESC;\")\n",
    "        rows = cursor.fetchall()\n",
    "        print('Total Row(s):', cursor.rowcount)\n",
    "         #only print head\n",
    "        title = [i[0] for i in cursor.description]\n",
    "        print(title)\n",
    "        #for row in rows:\n",
    "         #   print(row)\n",
    "        global df\n",
    "        df = pd.concat([df,pd.DataFrame(columns = list(title))])\n",
    "        df = pd.DataFrame(rows)\n",
    "\n",
    "    except Error as e:\n",
    "        print(e)\n",
    "\n",
    "    finally:\n",
    "        cursor.close()\n",
    "        connection.close()\n",
    "\n",
    "query_with_fetchone()\n",
    "df"
   ]
  },
  {
   "cell_type": "code",
   "execution_count": 2,
   "id": "8e7a2295",
   "metadata": {},
   "outputs": [
    {
     "ename": "NameError",
     "evalue": "name 'df' is not defined",
     "output_type": "error",
     "traceback": [
      "\u001b[0;31m---------------------------------------------------------------------------\u001b[0m",
      "\u001b[0;31mNameError\u001b[0m                                 Traceback (most recent call last)",
      "Input \u001b[0;32mIn [2]\u001b[0m, in \u001b[0;36m<cell line: 4>\u001b[0;34m()\u001b[0m\n\u001b[1;32m      1\u001b[0m \u001b[38;5;28;01mfrom\u001b[39;00m \u001b[38;5;21;01mdatetime\u001b[39;00m \u001b[38;5;28;01mimport\u001b[39;00m date\n\u001b[1;32m      2\u001b[0m \u001b[38;5;28;01mimport\u001b[39;00m \u001b[38;5;21;01mcalendar\u001b[39;00m\n\u001b[0;32m----> 4\u001b[0m \u001b[38;5;28;01mfor\u001b[39;00m d \u001b[38;5;129;01min\u001b[39;00m \u001b[43mdf\u001b[49m[\u001b[38;5;241m1\u001b[39m]:\n\u001b[1;32m      5\u001b[0m     df[\u001b[38;5;124m'\u001b[39m\u001b[38;5;124mweekday\u001b[39m\u001b[38;5;124m'\u001b[39m] \u001b[38;5;241m=\u001b[39m df[\u001b[38;5;241m1\u001b[39m]\u001b[38;5;241m.\u001b[39mdt\u001b[38;5;241m.\u001b[39mweekday\n\u001b[1;32m      6\u001b[0m     df[\u001b[38;5;124m'\u001b[39m\u001b[38;5;124mdate\u001b[39m\u001b[38;5;124m'\u001b[39m] \u001b[38;5;241m=\u001b[39m d\u001b[38;5;241m.\u001b[39mdate()\n",
      "\u001b[0;31mNameError\u001b[0m: name 'df' is not defined"
     ]
    }
   ],
   "source": [
    "from datetime import date\n",
    "import calendar\n",
    "\n",
    "for d in df[1]:\n",
    "    df['weekday'] = df[1].dt.weekday\n",
    "    df['date'] = d.date()\n",
    "    df['time'] = d.time()\n",
    "    \n",
    "print(df)"
   ]
  },
  {
   "cell_type": "code",
   "execution_count": null,
   "id": "33081ae4",
   "metadata": {},
   "outputs": [],
   "source": [
    "import datetime\n",
    "\n",
    "# Dictionary of occupied times for each classroom and day of the week\n",
    "occupied_times = {\n",
    "    \"P002\": {\n",
    "        \"Monday\": [\"08:00:00\", \"10:00:00\", \"12:00:00\", \"14:00:00\", \"16:00:00\"],\n",
    "        \"Tuesday\": [\"09:00:00\", \"11:00:00\", \"13:00:00\", \"15:00:00\", \"17:00:00\"],\n",
    "        \"Wednesday\": [\"10:00:00\", \"12:00:00\", \"14:00:00\", \"16:00:00\", \"18:00:00\"],\n",
    "        \"Thursday\": [\"11:00:00\", \"13:00:00\", \"15:00:00\", \"17:00:00\", \"19:00:00\"],\n",
    "        \"Friday\": [\"12:00:00\", \"14:00:00\", \"16:00:00\", \"18:00:00\", \"20:00:00\"]\n",
    "    },\n",
    "    \"P004\": {\n",
    "        \"Monday\": [\"09:00:00\", \"11:00:00\", \"13:00:00\", \"15:00:00\", \"17:00:00\"],\n",
    "        \"Tuesday\": [\"10:00:00\", \"12:00:00\", \"14:00:00\", \"16:00:00\", \"18:00:00\"],\n",
    "        \"Wednesday\": [\"11:00:00\", \"13:00:00\", \"15:00:00\", \"17:00:00\", \"19:00:00\"],\n",
    "        \"Thursday\": [\"12:00:00\", \"14:00:00\", \"16:00:00\", \"18:00:00\", \"20:00:00\"],\n",
    "        \"Friday\": [\"13:00:00\", \"15:00:00\", \"17:00:00\", \"19:00:00\", \"21:00:00\"]\n",
    "    }\n",
    "    \"P004\": {\n",
    "        \"Monday\": [\"09:00:00\", \"11:00:00\", \"13:00:00\", \"15:00:00\", \"17:00:00\"],\n",
    "        \"Tuesday\": [\"10:00:00\", \"12:00:00\", \"14:00:00\", \"16:00:00\", \"18:00:00\"],\n",
    "        \"Wednesday\": [\"11:00:00\", \"13:00:00\", \"15:00:00\", \"17:00:00\", \"19:00:00\"],\n",
    "        \"Thursday\": [\"12:00:00\", \"14:00:00\", \"16:00:00\", \"18:00:00\", \"20:00:00\"],\n",
    "        \"Friday\": [\"13:00:00\", \"15:00:00\", \"17:00:00\", \"19:00:00\", \"21:00:00\"]\n",
    "    }\n",
    "}\n",
    "\n",
    "# Get the current day of the week, time, and classroom number\n",
    "now = datetime.datetime.now()\n",
    "day_of_week = now.strftime(\"%A\")\n",
    "time = now.strftime(\"%H:%M:%S\")\n",
    "classroom_number = \"101\"  # Replace with the classroom number you want to check\n",
    "\n",
    "# Check if the current time and day of the week is in the list of occupied times for the classroom\n",
    "is_occupied = False\n",
    "if classroom_number in occupied_times:\n",
    "    if day_of_week in occupied_times[classroom_number]:\n",
    "        is_occupied = time in occupied_times[classroom_number][day_of_week]\n",
    "\n",
    "# Print the result\n",
    "print(f\"The classroom {classroom_number} is occupied:\", is_occupied)"
   ]
  },
  {
   "cell_type": "code",
   "execution_count": 36,
   "id": "239eab4e",
   "metadata": {},
   "outputs": [
    {
     "ename": "NameError",
     "evalue": "name 'DataFrame' is not defined",
     "output_type": "error",
     "traceback": [
      "\u001b[0;31m---------------------------------------------------------------------------\u001b[0m",
      "\u001b[0;31mNameError\u001b[0m                                 Traceback (most recent call last)",
      "Input \u001b[0;32mIn [36]\u001b[0m, in \u001b[0;36m<cell line: 1>\u001b[0;34m()\u001b[0m\n\u001b[0;32m----> 1\u001b[0m df \u001b[38;5;241m=\u001b[39m \u001b[43mDataFrame\u001b[49m()\n",
      "\u001b[0;31mNameError\u001b[0m: name 'DataFrame' is not defined"
     ]
    }
   ],
   "source": [
    "df = DataFrame()"
   ]
  },
  {
   "cell_type": "code",
   "execution_count": null,
   "id": "30893802",
   "metadata": {},
   "outputs": [],
   "source": []
  }
 ],
 "metadata": {
  "kernelspec": {
   "display_name": "Python 3 (ipykernel)",
   "language": "python",
   "name": "python3"
  },
  "language_info": {
   "codemirror_mode": {
    "name": "ipython",
    "version": 3
   },
   "file_extension": ".py",
   "mimetype": "text/x-python",
   "name": "python",
   "nbconvert_exporter": "python",
   "pygments_lexer": "ipython3",
   "version": "3.10.5"
  }
 },
 "nbformat": 4,
 "nbformat_minor": 5
}
